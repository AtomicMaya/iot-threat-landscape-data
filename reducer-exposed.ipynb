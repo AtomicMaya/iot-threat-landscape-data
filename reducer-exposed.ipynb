{
 "cells": [
  {
   "cell_type": "markdown",
   "id": "0cc4cb07-3dd5-47d5-bc32-9f31e49ddb4c",
   "metadata": {},
   "source": [
    "Imports & File Structure"
   ]
  },
  {
   "cell_type": "code",
   "execution_count": 1,
   "id": "79ac8a0c-ba40-4a39-910c-5f9afc5b7090",
   "metadata": {},
   "outputs": [],
   "source": [
    "# Structure of CSV file\n",
    "# F1: Date, Manufacturer, Type of Device, Exposed\n",
    "# F2: Date, Manufacturer, Exposed, Number of Countries\n",
    "# F3: Date, type, amount\n",
    "# F4: Date, Exploit, Infected, Number of Countries\n",
    "\n",
    "from os import listdir\n",
    "import pandas as pd"
   ]
  },
  {
   "cell_type": "markdown",
   "id": "1f2a5b42-0a7a-483c-be20-ba4fcfd6738e",
   "metadata": {},
   "source": [
    "## Get Exposed by Type"
   ]
  },
  {
   "cell_type": "code",
   "execution_count": 2,
   "id": "f03f7734-a1f1-48f4-b466-e88ff34e1ccd",
   "metadata": {},
   "outputs": [],
   "source": [
    "files = listdir('data/exposed')\n",
    "\n",
    "df_bytype = pd.DataFrame(columns=['date','type','count'])\n",
    "\n",
    "for f in files:\n",
    "  df = pd.read_csv(f'data/exposed/{f}')\n",
    "  df = df.drop(['geo'], axis=1)\n",
    "\n",
    "  if df.empty:\n",
    "    df = df.append({'type': 'appliance','count': 0}, ignore_index=True)\n",
    "  else:\n",
    "    df = df[pd.notna(df.vendor)]\n",
    "\n",
    "  dftype = df.groupby(['type']).sum()\n",
    "  #dftype = dftype.drop(['vendor','model','country','possible_vulnerability'], 1)\n",
    "  dftype = dftype.reset_index()\n",
    "  dftype.insert(0, 'date', f[:10])\n",
    "  \n",
    "  df_bytype = df_bytype.append(dftype)\n",
    "\n",
    "df_bytype = df_bytype.drop(['vendor','model','country','possible_vulnerability'], axis=1)\n",
    "df_bytype.reset_index(drop=True, inplace=True)\n",
    "df_bytype.to_csv('exposed_by_type.csv', index=False)"
   ]
  },
  {
   "cell_type": "markdown",
   "id": "c7b1d78d",
   "metadata": {},
   "source": [
    "## Exposed by Vendor"
   ]
  },
  {
   "cell_type": "code",
   "execution_count": 3,
   "id": "d45515c6-b14a-494e-91ca-bf6baab2eb4b",
   "metadata": {},
   "outputs": [],
   "source": [
    "files = listdir('data/exposed')\n",
    "\n",
    "df_bytype = pd.DataFrame(columns=['date','vendor','count'])\n",
    "\n",
    "for f in files:\n",
    "  df = pd.read_csv(f'data/exposed/{f}')\n",
    "  df = df.drop(['geo'], axis=1)\n",
    "\n",
    "  if df.empty:\n",
    "    df = df.append({'vendor': 'ASUS','count': 0}, ignore_index=True)\n",
    "  else:\n",
    "    df = df[pd.notna(df.vendor)]\n",
    "\n",
    "  dftype = df.groupby(['vendor']).sum()\n",
    "  #dftype = dftype.drop(['vendor','model','country','possible_vulnerability'], 1)\n",
    "  dftype = dftype.reset_index()\n",
    "  dftype.insert(0, 'date', f[:10])\n",
    "  \n",
    "  df_bytype = df_bytype.append(dftype)\n",
    "\n",
    "df_bytype = df_bytype.drop(['type','model','country','possible_vulnerability'], axis=1)\n",
    "df_bytype.reset_index(drop=True, inplace=True)\n",
    "df_bytype.to_csv('exposed_by_vendor.csv', index=False)"
   ]
  },
  {
   "cell_type": "markdown",
   "id": "214a1744",
   "metadata": {},
   "source": [
    "## Exposed by number of vulns"
   ]
  },
  {
   "cell_type": "code",
   "execution_count": null,
   "id": "4f2feffb",
   "metadata": {},
   "outputs": [],
   "source": []
  },
  {
   "cell_type": "markdown",
   "id": "af095048-3a8f-47ab-aa81-b69c925097d8",
   "metadata": {},
   "source": [
    "## Retrieve Type number of vulns"
   ]
  },
  {
   "cell_type": "code",
   "execution_count": 5,
   "id": "767eca9b-8e18-4f95-a9a8-1e967cc3e9aa",
   "metadata": {},
   "outputs": [],
   "source": [
    "def count_values(values):\n",
    "  if values.strip() == '':\n",
    "    return 0\n",
    "  else:\n",
    "    return len(values.split(';'))\n",
    "\n",
    "files = listdir('data/exposed')\n",
    "\n",
    "df_final = pd.DataFrame(columns=['date','type','vulnerability_count'])\n",
    "\n",
    "for f in files:\n",
    "  df = pd.read_csv(f'data/exposed/{f}')\n",
    "  df = df.drop(['geo', 'model', 'count', 'country'], axis=1)\n",
    "\n",
    "  if df.empty:\n",
    "    df = df.append({'type': 'appliance', 'vulnerability_count': 0}, ignore_index=True)\n",
    "  else:\n",
    "    df = df[(pd.notna(df.vendor)) & (pd.notna(df.possible_vulnerability))]\n",
    "    df = df.drop('vendor', 1)\n",
    "  \n",
    "    df['vulnerability_count'] = df.apply(lambda x: count_values(x['possible_vulnerability']), axis=1)\n",
    "    df = df.drop('possible_vulnerability', 1)\n",
    "  \n",
    "  df['vulnerability_count'] = df['vulnerability_count'].astype(int)\n",
    "  df_data = df.groupby(['type']).sum()\n",
    "  df_data = df_data.reset_index()\n",
    "  df_data.insert(0, 'date', f[:10])\n",
    "\n",
    "  df_final = pd.concat([df_final, df_data])\n",
    "\n",
    "df_final.reset_index(drop=True, inplace=True)\n",
    "df_final.to_csv('exposed_by_type_num_of_vulns.csv', index=False)"
   ]
  },
  {
   "cell_type": "markdown",
   "id": "ef23e135",
   "metadata": {},
   "source": [
    "## Retrieve Vendor Number of Vulns"
   ]
  },
  {
   "cell_type": "code",
   "execution_count": 6,
   "id": "f91fbdc8-dcef-471d-ae6c-3cdcb437275d",
   "metadata": {},
   "outputs": [],
   "source": [
    "def count_values(values):\n",
    "  if values.strip() == '':\n",
    "    return 0\n",
    "  else:\n",
    "    return len(values.split(';'))\n",
    "\n",
    "files = listdir('data/exposed')\n",
    "\n",
    "df_final = pd.DataFrame(columns=['date','vendor','vulnerability_count'])\n",
    "\n",
    "for f in files:\n",
    "  df = pd.read_csv(f'data/exposed/{f}')\n",
    "  df = df.drop(['geo', 'model', 'count', 'country'], axis=1)\n",
    "\n",
    "  if df.empty:\n",
    "    df = df.append({'vendor': 'ASUS', 'vulnerability_count': 0}, ignore_index=True)\n",
    "  else:\n",
    "    df = df[(pd.notna(df.vendor)) & (pd.notna(df.possible_vulnerability))]\n",
    "    df = df.drop('type', axis=1)\n",
    "  \n",
    "    df['vulnerability_count'] = df.apply(lambda x: count_values(x['possible_vulnerability']), axis=1)\n",
    "    df = df.drop('possible_vulnerability', axis=1)\n",
    "  \n",
    "  df['vulnerability_count'] = df['vulnerability_count'].astype(int)\n",
    "  df_data = df.groupby(['vendor']).sum()\n",
    "  df_data = df_data.reset_index()\n",
    "  df_data.insert(0, 'date', f[:10])\n",
    "\n",
    "  df_final = pd.concat([df_final, df_data])\n",
    "\n",
    "df_final.reset_index(drop=True, inplace=True)\n",
    "df_final.to_csv('exposed_by_vendor_num_of_vulns.csv', index=False)"
   ]
  },
  {
   "cell_type": "markdown",
   "id": "216e517f",
   "metadata": {},
   "source": [
    "## Retrieve Country exposed"
   ]
  },
  {
   "cell_type": "code",
   "execution_count": 7,
   "id": "09414e49-8a9d-4718-bef6-b37e48f41b05",
   "metadata": {},
   "outputs": [],
   "source": [
    "files = listdir('data/exposed')\n",
    "\n",
    "df_final = pd.DataFrame(columns=['date','country','count'])\n",
    "\n",
    "for f in sorted(files):\n",
    "  df = pd.read_csv(f'data/exposed/{f}')\n",
    "  df = df.drop(['possible_vulnerability', 'geo', 'type', 'model', 'vendor'], axis=1)\n",
    "\n",
    "  if not df.empty:\n",
    "    df = df[pd.notna(df.country)][pd.notna(df['count'])].groupby(['country']).sum()\n",
    "    df_data = df.reset_index()\n",
    "    df_data.insert(0, 'date', f[:10])\n",
    "    df_final = pd.concat([df_final, df_data])\n",
    "\n",
    "df_final.reset_index(drop=True, inplace=True)\n",
    "df_final.to_csv('exposed_by_country.csv', index=False)"
   ]
  },
  {
   "cell_type": "code",
   "execution_count": null,
   "id": "1c898adb-315c-4204-ba22-d1e0c3acc0ce",
   "metadata": {},
   "outputs": [
    {
     "data": {
      "text/html": [
       "<div>\n",
       "<style scoped>\n",
       "    .dataframe tbody tr th:only-of-type {\n",
       "        vertical-align: middle;\n",
       "    }\n",
       "\n",
       "    .dataframe tbody tr th {\n",
       "        vertical-align: top;\n",
       "    }\n",
       "\n",
       "    .dataframe thead th {\n",
       "        text-align: right;\n",
       "    }\n",
       "</style>\n",
       "<table border=\"1\" class=\"dataframe\">\n",
       "  <thead>\n",
       "    <tr style=\"text-align: right;\">\n",
       "      <th></th>\n",
       "      <th>date</th>\n",
       "      <th>strain_count</th>\n",
       "    </tr>\n",
       "  </thead>\n",
       "  <tbody>\n",
       "    <tr>\n",
       "      <th>0</th>\n",
       "      <td>2021-05-03</td>\n",
       "      <td>36</td>\n",
       "    </tr>\n",
       "    <tr>\n",
       "      <th>1</th>\n",
       "      <td>2021-05-04</td>\n",
       "      <td>35</td>\n",
       "    </tr>\n",
       "    <tr>\n",
       "      <th>2</th>\n",
       "      <td>2021-05-05</td>\n",
       "      <td>34</td>\n",
       "    </tr>\n",
       "    <tr>\n",
       "      <th>3</th>\n",
       "      <td>2021-05-06</td>\n",
       "      <td>62</td>\n",
       "    </tr>\n",
       "    <tr>\n",
       "      <th>4</th>\n",
       "      <td>2021-05-07</td>\n",
       "      <td>67</td>\n",
       "    </tr>\n",
       "    <tr>\n",
       "      <th>...</th>\n",
       "      <td>...</td>\n",
       "      <td>...</td>\n",
       "    </tr>\n",
       "    <tr>\n",
       "      <th>358</th>\n",
       "      <td>2022-04-30</td>\n",
       "      <td>42</td>\n",
       "    </tr>\n",
       "    <tr>\n",
       "      <th>359</th>\n",
       "      <td>2022-05-01</td>\n",
       "      <td>41</td>\n",
       "    </tr>\n",
       "    <tr>\n",
       "      <th>360</th>\n",
       "      <td>2022-05-02</td>\n",
       "      <td>41</td>\n",
       "    </tr>\n",
       "    <tr>\n",
       "      <th>361</th>\n",
       "      <td>2022-05-03</td>\n",
       "      <td>41</td>\n",
       "    </tr>\n",
       "    <tr>\n",
       "      <th>362</th>\n",
       "      <td>2022-05-04</td>\n",
       "      <td>73</td>\n",
       "    </tr>\n",
       "  </tbody>\n",
       "</table>\n",
       "<p>363 rows × 2 columns</p>\n",
       "</div>"
      ],
      "text/plain": [
       "           date strain_count\n",
       "0    2021-05-03           36\n",
       "1    2021-05-04           35\n",
       "2    2021-05-05           34\n",
       "3    2021-05-06           62\n",
       "4    2021-05-07           67\n",
       "..          ...          ...\n",
       "358  2022-04-30           42\n",
       "359  2022-05-01           41\n",
       "360  2022-05-02           41\n",
       "361  2022-05-03           41\n",
       "362  2022-05-04           73\n",
       "\n",
       "[363 rows x 2 columns]"
      ]
     },
     "execution_count": 9,
     "metadata": {},
     "output_type": "execute_result"
    }
   ],
   "source": [
    "df_final"
   ]
  }
 ],
 "metadata": {
  "kernelspec": {
   "display_name": "Python 3.9.2 64-bit",
   "language": "python",
   "name": "python3"
  },
  "language_info": {
   "codemirror_mode": {
    "name": "ipython",
    "version": 3
   },
   "file_extension": ".py",
   "mimetype": "text/x-python",
   "name": "python",
   "nbconvert_exporter": "python",
   "pygments_lexer": "ipython3",
   "version": "3.9.2"
  },
  "vscode": {
   "interpreter": {
    "hash": "4ef547182011476c8a789bc9dd340a6855fff6dc4b7ba8f92a653f1804e8a62a"
   }
  }
 },
 "nbformat": 4,
 "nbformat_minor": 5
}
