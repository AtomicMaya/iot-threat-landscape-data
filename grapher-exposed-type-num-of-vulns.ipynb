{
 "cells": [
  {
   "cell_type": "code",
   "execution_count": 1,
   "metadata": {},
   "outputs": [],
   "source": [
    "from matplotlib import pyplot as plt\n",
    "import matplotlib.dates as mdates\n",
    "import pandas as pd\n",
    "import numpy as np\n",
    "import matplotlib.colors as mcolors\n",
    "from matplotlib.cm import ScalarMappable\n",
    "from matplotlib.colors import LogNorm\n",
    "from datetime import timedelta"
   ]
  },
  {
   "cell_type": "code",
   "execution_count": 2,
   "metadata": {},
   "outputs": [],
   "source": [
    "def lerp(start, end, t):\n",
    "\tr = start[0] + (end[0] - start[0]) * t\n",
    "\tg = start[1] + (end[1] - start[1]) * t\n",
    "\tb = start[2] + (end[2] - start[2]) * t\n",
    "\ta = start[3] + (end[3] - start[3]) * t\n",
    "\treturn (r / 255.0, g / 255.0, b / 255.0, a)\n",
    "\n",
    "def hex_to_rgb(value):\n",
    "    '''\n",
    "    Converts hex to rgb colours\n",
    "    value: string of 6 characters representing a hex colour.\n",
    "    Returns: list length 3 of RGB values'''\n",
    "    value = value.strip(\"#\") # removes hash symbol if present\n",
    "    lv = len(value)\n",
    "    return tuple(int(value[i:i + lv // 3], 16) for i in range(0, lv, lv // 3))\n",
    "\n",
    "\n",
    "def rgb_to_dec(value):\n",
    "    '''\n",
    "    Converts rgb to decimal colours (i.e. divides each value by 256)\n",
    "    value: list (length 3) of RGB values\n",
    "    Returns: list (length 3) of decimal values'''\n",
    "    return [v/256 for v in value]\n",
    "\n",
    "def get_continuous_cmap(hex_list, float_list=None):\n",
    "    ''' creates and returns a color map that can be used in heat map figures.\n",
    "        If float_list is not provided, colour map graduates linearly between each color in hex_list.\n",
    "        If float_list is provided, each color in hex_list is mapped to the respective location in float_list. \n",
    "        \n",
    "        Parameters\n",
    "        ----------\n",
    "        hex_list: list of hex code strings\n",
    "        float_list: list of floats between 0 and 1, same length as hex_list. Must start with 0 and end with 1.\n",
    "        \n",
    "        Returns\n",
    "        ----------\n",
    "        colour map'''\n",
    "    rgb_list = [rgb_to_dec(hex_to_rgb(i)) for i in hex_list]\n",
    "    if float_list:\n",
    "        pass\n",
    "    else:\n",
    "        float_list = list(np.linspace(0,1,len(rgb_list)))\n",
    "        \n",
    "    cdict = dict()\n",
    "    for num, col in enumerate(['red', 'green', 'blue']):\n",
    "        col_list = [[float_list[i], rgb_list[i][num], rgb_list[i][num]] for i in range(len(float_list))]\n",
    "        cdict[col] = col_list\n",
    "    cmp = mcolors.LinearSegmentedColormap('my_cmp', segmentdata=cdict, N=256)\n",
    "    return cmp"
   ]
  },
  {
   "cell_type": "code",
   "execution_count": 3,
   "metadata": {},
   "outputs": [],
   "source": [
    "hex_list = ['#85ff00', '#fff100', '#ffaa04', '#ff0000', '#dc00ff', '#6700d4']#, '#1200db', '#0a014a']\n",
    "scales = [0, 10, 100, 1000, 10000, 100000]#, 1000000, 10000000]\n",
    "colors = [(0x85, 0xff, 0x00, 1.0), (0xff, 0xf1, 0x00, 1.0), (0xff, 0xaa, 0x04, 1.0), (0xff, 0x00, 0x00, 1.0), (0xdc, 0x00, 0xff, 1.0), (0x67, 0x00, 0xd4, 1.0), (0x12, 0x00, 0xdb, 1.0)]#, (0x12, 0x00, 0xdb, 1.0), (0x0a, 0x01, 0x4a, 1.0), ]"
   ]
  },
  {
   "cell_type": "code",
   "execution_count": 4,
   "metadata": {},
   "outputs": [
    {
     "name": "stdout",
     "output_type": "stream",
     "text": [
      "01/16: firewall\n",
      "02/16: load-balancer\n",
      "03/16: hypervisor\n",
      "04/16: nas\n",
      "05/16: printer\n",
      "06/16: appliance\n",
      "07/16: device-management\n",
      "08/16: hmi-panel\n",
      "09/16: wireless-access-point\n",
      "10/16: voip\n",
      "11/16: application-delivery-controller\n",
      "12/16: video-system\n",
      "13/16: router\n",
      "14/16: conferencing-system\n",
      "15/16: web-enabled-controller\n",
      "16/16: plc\n"
     ]
    }
   ],
   "source": [
    "df = pd.read_csv('exposed_by_type_num_of_vulns.csv')\n",
    "type_names = list(set(df['type'].unique()) - set([\"?\"]))\n",
    "\n",
    "dates = sorted(list(df.date.unique()))\n",
    "\n",
    "done = 0\n",
    "output = {}\n",
    "first_appearance = {}\n",
    "for _types in type_names:\n",
    "\tc = []\n",
    "\tfor d in range(len(dates)):\n",
    "\t\tif not _types in list(df[(df.date == dates[d])]['type']) or df[(df.date == dates[d]) & (df['type'] == _types)]['vulnerability_count'].iloc[0] == 0:\n",
    "\t\t\tc += [(0, 0, 0, 0)]\n",
    "\t\telse:\n",
    "\t\t\tfirst_appearance[_types] = dates[d]\n",
    "\t\t\tv = df[(df.date == dates[d]) & (df['type'] == _types)]['vulnerability_count'].iloc[0]\n",
    "\t\t\tidx = -1\n",
    "\t\t\tfor s in range(len(scales) - 1):\n",
    "\t\t\t\tif scales[s] < v and v <= scales[s+1]:\n",
    "\t\t\t\t\tidx = s\n",
    "\t\t\tif idx == -1:\n",
    "\t\t\t\tc += [lerp(colors[-1], colors[-1], 0.5)]\n",
    "\t\t\telse:\n",
    "\t\t\t\tc += [lerp(colors[idx], colors[idx+1], (v - scales[idx])/(scales[idx + 1] - scales[idx]))]\n",
    "\tdone += 1\n",
    "\tprint(f'{str(done).zfill(len(str(len(type_names))))}/{len(type_names)}: {_types}')\n",
    "\toutput[_types] = c\n"
   ]
  },
  {
   "cell_type": "code",
   "execution_count": 5,
   "metadata": {},
   "outputs": [],
   "source": [
    "from json import dumps\n",
    "jsonified = dumps(output)\n",
    "with open('./exposed-type-num-of-vulns.json', 'w') as f:\n",
    "    f.write(jsonified)\n",
    "    f.close()"
   ]
  },
  {
   "cell_type": "code",
   "execution_count": 6,
   "metadata": {},
   "outputs": [],
   "source": [
    "# Sort infection names initial date (color tuple not 0 0 0 0 ) then alphabetical\n",
    "appearance = {}\n",
    "for _types in type_names:\n",
    "    for c in range(len(output[_types])):\n",
    "        if output[_types][c][0] != 0 or output[_types][c][1] != 0 or output[_types][c][2] != 0 or output[_types][c][3] != 0:\n",
    "            appearance[_types] = c\n",
    "            break\n",
    "\n",
    "appearance_inv = {i: [] for i in range(len(dates))}\n",
    "\n",
    "for v in sorted(list(appearance.items()), key=lambda x: x[1]):\n",
    "    appearance_inv[v[1]] += [v[0]]\n",
    "\n",
    "for i in range(len(dates)):\n",
    "    if len(appearance_inv[i]) == 0:\n",
    "        del(appearance_inv[i])\n",
    "    else:\n",
    "        appearance_inv[i] = sorted(appearance_inv[i])\n",
    "\n",
    "type_names_sorted = [x for xs in [v for k, v in appearance_inv.items()] for x in xs][::-1]"
   ]
  },
  {
   "cell_type": "code",
   "execution_count": 7,
   "metadata": {},
   "outputs": [],
   "source": [
    "# Real max is 21000\n",
    "norm=LogNorm(vmin=1, vmax=99999)\n",
    "cmappable = ScalarMappable(norm=norm, cmap=get_continuous_cmap(hex_list=hex_list))"
   ]
  },
  {
   "cell_type": "code",
   "execution_count": 8,
   "metadata": {},
   "outputs": [
    {
     "data": {
      "text/plain": [
       "datetime.datetime(2022, 5, 4, 0, 0, tzinfo=datetime.timezone.utc)"
      ]
     },
     "execution_count": 8,
     "metadata": {},
     "output_type": "execute_result"
    }
   ],
   "source": [
    "dates = sorted(list(df.date.unique()))\n",
    "m_dates = mdates.num2date(mdates.datestr2num(dates))\n",
    "m_dates[-1]"
   ]
  },
  {
   "cell_type": "code",
   "execution_count": 9,
   "metadata": {},
   "outputs": [
    {
     "name": "stdout",
     "output_type": "stream",
     "text": [
      "01/16: application-delivery-controller\n",
      "02/16: load-balancer\n",
      "03/16: conferencing-system\n",
      "04/16: printer\n",
      "05/16: voip\n",
      "06/16: hmi-panel\n",
      "07/16: web-enabled-controller\n",
      "08/16: plc\n",
      "09/16: device-management\n",
      "10/16: wireless-access-point\n",
      "11/16: video-system\n",
      "12/16: router\n",
      "13/16: nas\n",
      "14/16: hypervisor\n",
      "15/16: firewall\n"
     ]
    },
    {
     "data": {
      "image/png": "[encoded data removed]",
      "text/plain": [
       "<Figure size 1190.88x531.36 with 2 Axes>"
      ]
     },
     "metadata": {
      "needs_background": "light"
     },
     "output_type": "display_data"
    }
   ],
   "source": [
    "\n",
    "plt.rcParams[\"figure.figsize\"] = (16.54, 7.38)\n",
    "\n",
    "fig, ax = plt.subplots(figsize=(16.54, 7.38))\n",
    "y = 0\n",
    "done = 0\n",
    "\n",
    "for _types in type_names_sorted:\n",
    "\tfor c in range(len(output[_types])):\n",
    "\t\tax.barh(y, 1, left= m_dates[c], height=0.8, align='center', color=output[_types][c])\n",
    "\ty += 1\n",
    "\tdone += 1\n",
    "\tprint(f'{str(done).zfill(len(str(len(type_names))))}/{len(type_names)}: {_types}')\n",
    "\n",
    "ax.xaxis.set_major_formatter(mdates.DateFormatter('%b-%Y')) \n",
    "ax.axis('tight')\n",
    "ax.set_xlim([m_dates[0] - timedelta(days=5), m_dates[-1] + timedelta(days=5)])\n",
    "ax.set_ylim([-1, len(type_names_sorted) + 1])\n",
    "ax.set_yticks(np.arange(len(type_names_sorted)))\n",
    "ax.set_yticklabels(type_names_sorted)\n",
    "\n",
    "\n",
    "ax.set_xlabel('Date')\n",
    "ax.set_ylabel('Device type')\n",
    "\n",
    "fig.autofmt_xdate()\n",
    "\n",
    "cb =fig.colorbar(cmappable, aspect=40, pad=0.03)\n",
    "cb.ax.set_ylabel('# of potential unique vulnerabilites')\n",
    "\n",
    "ax.set_title(\"Number of potential unique vulnerabilities detected per device type over time\")\n",
    "\n",
    "plt.savefig('../images/exposed-bytype-num-vulns-better.png', facecolor='white', transparent=False, bbox_inches='tight', pad_inches=.2, dpi=300)\n",
    "plt.show()"
   ]
  }
 ],
 "metadata": {
  "kernelspec": {
   "display_name": "Python 3.10.4 64-bit",
   "language": "python",
   "name": "python3"
  },
  "language_info": {
   "codemirror_mode": {
    "name": "ipython",
    "version": 3
   },
   "file_extension": ".py",
   "mimetype": "text/x-python",
   "name": "python",
   "nbconvert_exporter": "python",
   "pygments_lexer": "ipython3",
   "version": "3.10.4"
  },
  "orig_nbformat": 4,
  "vscode": {
   "interpreter": {
    "hash": "ed56aeb5e4391eb039a0b568ddf144ade4d85b8337ff4e036753b23b296e1de1"
   }
  }
 },
 "nbformat": 4,
 "nbformat_minor": 2
}
