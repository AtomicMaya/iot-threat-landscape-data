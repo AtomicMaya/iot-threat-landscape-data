{
 "cells": [
  {
   "cell_type": "markdown",
   "id": "0cc4cb07-3dd5-47d5-bc32-9f31e49ddb4c",
   "metadata": {},
   "source": [
    "Imports & File Structure"
   ]
  },
  {
   "cell_type": "code",
   "execution_count": 12,
   "id": "79ac8a0c-ba40-4a39-910c-5f9afc5b7090",
   "metadata": {},
   "outputs": [],
   "source": [
    "# Structure of CSV file\n",
    "# F1: Date, Manufacturer, Type of Device, Exposed\n",
    "# F2: Date, Manufacturer, Exposed, Number of Countries\n",
    "# F3: Date, type, amount\n",
    "# F4: Date, Exploit, Infected, Number of Countries\n",
    "\n",
    "from os import listdir\n",
    "import pandas as pd\n",
    "from pandas.core.frame import DataFrame"
   ]
  },
  {
   "cell_type": "markdown",
   "id": "1f2a5b42-0a7a-483c-be20-ba4fcfd6738e",
   "metadata": {},
   "source": [
    "## Retrieve the various infections"
   ]
  },
  {
   "cell_type": "code",
   "execution_count": 7,
   "id": "f03f7734-a1f1-48f4-b466-e88ff34e1ccd",
   "metadata": {},
   "outputs": [],
   "source": [
    "\n",
    "files = listdir('data/infected')\n",
    "\n",
    "df_final = pd.DataFrame(columns=['date','infection','count'])\n",
    "\n",
    "for f in files:\n",
    "  df = pd.read_csv(f'data/infected/{f}')\n",
    "  df = df.drop('geo', 1)\n",
    "\n",
    "  if df.empty:\n",
    "    df = df.append({'infection': '?','count': 0}, ignore_index=True)\n",
    "  else:\n",
    "    df = df[pd.notna(df.infection)]\n",
    "\n",
    "  df_infections = df.groupby(['infection']).sum()\n",
    "  \n",
    "  df_infections = df_infections.reset_index()\n",
    "  df_infections.insert(0, 'date', f[:10])\n",
    "  \n",
    "  df_final = df_final.append(df_infections)\n",
    "\n",
    "df_final = df_final.drop(['country'], 1)\n",
    "df_final.reset_index(drop=True, inplace=True)\n",
    "df_final.to_csv('infected_by_infection.csv', index=False)"
   ]
  },
  {
   "cell_type": "markdown",
   "id": "af095048-3a8f-47ab-aa81-b69c925097d8",
   "metadata": {},
   "source": [
    "## Retrieve number of strains"
   ]
  },
  {
   "cell_type": "code",
   "execution_count": 8,
   "id": "767eca9b-8e18-4f95-a9a8-1e967cc3e9aa",
   "metadata": {},
   "outputs": [],
   "source": [
    "files = listdir('data/infected')\n",
    "def count_values(values):\n",
    "  if values.strip() == '':\n",
    "    return 0\n",
    "  else:\n",
    "    return len(values.split(';'))\n",
    "df_final = pd.DataFrame(columns=['date','strain_count'])"
   ]
  },
  {
   "cell_type": "code",
   "execution_count": 9,
   "id": "f91fbdc8-dcef-471d-ae6c-3cdcb437275d",
   "metadata": {},
   "outputs": [
    {
     "name": "stderr",
     "output_type": "stream",
     "text": [
      "/tmp/ipykernel_212092/1003818404.py:3: FutureWarning: In a future version of pandas all arguments of DataFrame.drop except for the argument 'labels' will be keyword-only\n",
      "  df = df.drop(['geo', 'country'], 1)\n"
     ]
    }
   ],
   "source": [
    "for f in files:\n",
    "  df = pd.read_csv(f'data/infected/{f}')\n",
    "  df = df.drop(['geo', 'country'], 1)\n",
    "\n",
    "  if df.empty:\n",
    "    df_infections = pd.DataFrame({'strain_count': {0: 0}})\n",
    "  else:\n",
    "    df = df[pd.notna(df.infection)]\n",
    "    df = df.groupby(['infection']).sum()\n",
    "    df_infections = pd.DataFrame({'strain_count': {0: df.shape[0]}})\n",
    "    \n",
    "  df_infections = df_infections.reset_index()\n",
    "  \n",
    "  df_infections.insert(0, 'date', f[:10])\n",
    "  \n",
    "  df_final = df_final.append(df_infections)"
   ]
  },
  {
   "cell_type": "code",
   "execution_count": 10,
   "id": "09414e49-8a9d-4718-bef6-b37e48f41b05",
   "metadata": {},
   "outputs": [
    {
     "name": "stderr",
     "output_type": "stream",
     "text": [
      "/tmp/ipykernel_212092/127077151.py:2: FutureWarning: In a future version of pandas all arguments of DataFrame.drop except for the argument 'labels' will be keyword-only\n",
      "  df_final = df_final.drop('index', 1)\n"
     ]
    }
   ],
   "source": [
    "df_final = df_final.sort_values(by=['date'])\n",
    "df_final = df_final.drop('index', 1)\n",
    "df_final.reset_index(drop=True, inplace=True)\n",
    "df_final.to_csv('infected_by_strain.csv', index=False)"
   ]
  },
  {
   "cell_type": "code",
   "execution_count": 11,
   "id": "1c898adb-315c-4204-ba22-d1e0c3acc0ce",
   "metadata": {},
   "outputs": [
    {
     "data": {
      "text/html": [
       "<div>\n",
       "<style scoped>\n",
       "    .dataframe tbody tr th:only-of-type {\n",
       "        vertical-align: middle;\n",
       "    }\n",
       "\n",
       "    .dataframe tbody tr th {\n",
       "        vertical-align: top;\n",
       "    }\n",
       "\n",
       "    .dataframe thead th {\n",
       "        text-align: right;\n",
       "    }\n",
       "</style>\n",
       "<table border=\"1\" class=\"dataframe\">\n",
       "  <thead>\n",
       "    <tr style=\"text-align: right;\">\n",
       "      <th></th>\n",
       "      <th>date</th>\n",
       "      <th>strain_count</th>\n",
       "    </tr>\n",
       "  </thead>\n",
       "  <tbody>\n",
       "    <tr>\n",
       "      <th>0</th>\n",
       "      <td>2021-05-03</td>\n",
       "      <td>36</td>\n",
       "    </tr>\n",
       "    <tr>\n",
       "      <th>1</th>\n",
       "      <td>2021-05-04</td>\n",
       "      <td>35</td>\n",
       "    </tr>\n",
       "    <tr>\n",
       "      <th>2</th>\n",
       "      <td>2021-05-05</td>\n",
       "      <td>34</td>\n",
       "    </tr>\n",
       "    <tr>\n",
       "      <th>3</th>\n",
       "      <td>2021-05-06</td>\n",
       "      <td>62</td>\n",
       "    </tr>\n",
       "    <tr>\n",
       "      <th>4</th>\n",
       "      <td>2021-05-07</td>\n",
       "      <td>67</td>\n",
       "    </tr>\n",
       "    <tr>\n",
       "      <th>...</th>\n",
       "      <td>...</td>\n",
       "      <td>...</td>\n",
       "    </tr>\n",
       "    <tr>\n",
       "      <th>358</th>\n",
       "      <td>2022-04-30</td>\n",
       "      <td>42</td>\n",
       "    </tr>\n",
       "    <tr>\n",
       "      <th>359</th>\n",
       "      <td>2022-05-01</td>\n",
       "      <td>41</td>\n",
       "    </tr>\n",
       "    <tr>\n",
       "      <th>360</th>\n",
       "      <td>2022-05-02</td>\n",
       "      <td>41</td>\n",
       "    </tr>\n",
       "    <tr>\n",
       "      <th>361</th>\n",
       "      <td>2022-05-03</td>\n",
       "      <td>41</td>\n",
       "    </tr>\n",
       "    <tr>\n",
       "      <th>362</th>\n",
       "      <td>2022-05-04</td>\n",
       "      <td>73</td>\n",
       "    </tr>\n",
       "  </tbody>\n",
       "</table>\n",
       "<p>363 rows × 2 columns</p>\n",
       "</div>"
      ],
      "text/plain": [
       "           date strain_count\n",
       "0    2021-05-03           36\n",
       "1    2021-05-04           35\n",
       "2    2021-05-05           34\n",
       "3    2021-05-06           62\n",
       "4    2021-05-07           67\n",
       "..          ...          ...\n",
       "358  2022-04-30           42\n",
       "359  2022-05-01           41\n",
       "360  2022-05-02           41\n",
       "361  2022-05-03           41\n",
       "362  2022-05-04           73\n",
       "\n",
       "[363 rows x 2 columns]"
      ]
     },
     "execution_count": 11,
     "metadata": {},
     "output_type": "execute_result"
    }
   ],
   "source": [
    "df_final"
   ]
  }
 ],
 "metadata": {
  "kernelspec": {
   "display_name": "Python 3 (ipykernel)",
   "language": "python",
   "name": "python3"
  },
  "language_info": {
   "codemirror_mode": {
    "name": "ipython",
    "version": 3
   },
   "file_extension": ".py",
   "mimetype": "text/x-python",
   "name": "python",
   "nbconvert_exporter": "python",
   "pygments_lexer": "ipython3",
   "version": "3.9.7"
  }
 },
 "nbformat": 4,
 "nbformat_minor": 5
}
