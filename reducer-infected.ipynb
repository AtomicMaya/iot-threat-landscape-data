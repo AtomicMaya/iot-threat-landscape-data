{
 "cells": [
  {
   "cell_type": "markdown",
   "id": "0cc4cb07-3dd5-47d5-bc32-9f31e49ddb4c",
   "metadata": {},
   "source": [
    "Imports & File Structure"
   ]
  },
  {
   "cell_type": "code",
   "execution_count": 1,
   "id": "79ac8a0c-ba40-4a39-910c-5f9afc5b7090",
   "metadata": {},
   "outputs": [],
   "source": [
    "# Structure of CSV file\n",
    "# F1: Date, Manufacturer, Type of Device, Exposed\n",
    "# F2: Date, Manufacturer, Exposed, Number of Countries\n",
    "# F3: Date, type, amount\n",
    "# F4: Date, Exploit, Infected, Number of Countries\n",
    "\n",
    "from os import listdir\n",
    "import pandas as pd\n",
    "from pandas.core.frame import DataFrame"
   ]
  },
  {
   "cell_type": "markdown",
   "id": "1f2a5b42-0a7a-483c-be20-ba4fcfd6738e",
   "metadata": {},
   "source": [
    "## Retrieve the various infections"
   ]
  },
  {
   "cell_type": "code",
   "execution_count": 2,
   "id": "f03f7734-a1f1-48f4-b466-e88ff34e1ccd",
   "metadata": {},
   "outputs": [],
   "source": [
    "files = listdir('data/infected')\n",
    "\n",
    "df_final = pd.DataFrame(columns=['date','infection','count'])\n",
    "\n",
    "for f in files:\n",
    "  df = pd.read_csv(f'data/infected/{f}')\n",
    "  df = df.drop('geo', 1)\n",
    "\n",
    "  if df.empty:\n",
    "    df = df.append({'infection': '?','count': 0}, ignore_index=True)\n",
    "  else:\n",
    "    df = df[pd.notna(df.infection)]\n",
    "\n",
    "  df_infections = df.groupby(['infection']).sum()\n",
    "  \n",
    "  df_infections = df_infections.reset_index()\n",
    "  df_infections.insert(0, 'date', f[:10])\n",
    "  \n",
    "  df_final = df_final.append(df_infections)"
   ]
  },
  {
   "cell_type": "code",
   "execution_count": 4,
   "id": "d45515c6-b14a-494e-91ca-bf6baab2eb4b",
   "metadata": {},
   "outputs": [
    {
     "name": "stderr",
     "output_type": "stream",
     "text": [
      "/tmp/ipykernel_336639/923411950.py:1: FutureWarning: In a future version of pandas all arguments of DataFrame.drop except for the argument 'labels' will be keyword-only\n",
      "  df_final = df_final.drop(['country'], 1)\n"
     ]
    }
   ],
   "source": [
    "\n",
    "df_final = df_final.drop(['country'], 1)\n",
    "df_final = df_final.sort_values(by=['date', 'count'])\n",
    "df_final.reset_index(drop=True, inplace=True)\n",
    "df_final.to_csv('infected_by_infection.csv', index=False)"
   ]
  },
  {
   "cell_type": "code",
   "execution_count": 5,
   "id": "b5f24a15-383a-43d0-ac93-3078c2d9fe9c",
   "metadata": {},
   "outputs": [
    {
     "data": {
      "text/html": [
       "<div>\n",
       "<style scoped>\n",
       "    .dataframe tbody tr th:only-of-type {\n",
       "        vertical-align: middle;\n",
       "    }\n",
       "\n",
       "    .dataframe tbody tr th {\n",
       "        vertical-align: top;\n",
       "    }\n",
       "\n",
       "    .dataframe thead th {\n",
       "        text-align: right;\n",
       "    }\n",
       "</style>\n",
       "<table border=\"1\" class=\"dataframe\">\n",
       "  <thead>\n",
       "    <tr style=\"text-align: right;\">\n",
       "      <th></th>\n",
       "      <th>date</th>\n",
       "      <th>infection</th>\n",
       "      <th>count</th>\n",
       "    </tr>\n",
       "  </thead>\n",
       "  <tbody>\n",
       "    <tr>\n",
       "      <th>0</th>\n",
       "      <td>2021-05-03</td>\n",
       "      <td>CVE-2014-2321</td>\n",
       "      <td>1</td>\n",
       "    </tr>\n",
       "    <tr>\n",
       "      <th>1</th>\n",
       "      <td>2021-05-03</td>\n",
       "      <td>CVE-2020-8958</td>\n",
       "      <td>1</td>\n",
       "    </tr>\n",
       "    <tr>\n",
       "      <th>2</th>\n",
       "      <td>2021-05-03</td>\n",
       "      <td>SSV-97217</td>\n",
       "      <td>1</td>\n",
       "    </tr>\n",
       "    <tr>\n",
       "      <th>3</th>\n",
       "      <td>2021-05-03</td>\n",
       "      <td>CVE-2020-8515</td>\n",
       "      <td>3</td>\n",
       "    </tr>\n",
       "    <tr>\n",
       "      <th>4</th>\n",
       "      <td>2021-05-03</td>\n",
       "      <td>qsnatch</td>\n",
       "      <td>3</td>\n",
       "    </tr>\n",
       "    <tr>\n",
       "      <th>...</th>\n",
       "      <td>...</td>\n",
       "      <td>...</td>\n",
       "      <td>...</td>\n",
       "    </tr>\n",
       "    <tr>\n",
       "      <th>21457</th>\n",
       "      <td>2022-05-04</td>\n",
       "      <td>android.rootnik</td>\n",
       "      <td>27568</td>\n",
       "    </tr>\n",
       "    <tr>\n",
       "      <th>21458</th>\n",
       "      <td>2022-05-04</td>\n",
       "      <td>telnet-brute-force</td>\n",
       "      <td>28826</td>\n",
       "    </tr>\n",
       "    <tr>\n",
       "      <th>21459</th>\n",
       "      <td>2022-05-04</td>\n",
       "      <td>android.bakdoor.prizmes</td>\n",
       "      <td>61329</td>\n",
       "    </tr>\n",
       "    <tr>\n",
       "      <th>21460</th>\n",
       "      <td>2022-05-04</td>\n",
       "      <td>mirai</td>\n",
       "      <td>97244</td>\n",
       "    </tr>\n",
       "    <tr>\n",
       "      <th>21461</th>\n",
       "      <td>2022-05-04</td>\n",
       "      <td>android.hummer</td>\n",
       "      <td>307480</td>\n",
       "    </tr>\n",
       "  </tbody>\n",
       "</table>\n",
       "<p>21462 rows × 3 columns</p>\n",
       "</div>"
      ],
      "text/plain": [
       "             date                infection   count\n",
       "0      2021-05-03            CVE-2014-2321       1\n",
       "1      2021-05-03            CVE-2020-8958       1\n",
       "2      2021-05-03                SSV-97217       1\n",
       "3      2021-05-03            CVE-2020-8515       3\n",
       "4      2021-05-03                  qsnatch       3\n",
       "...           ...                      ...     ...\n",
       "21457  2022-05-04          android.rootnik   27568\n",
       "21458  2022-05-04       telnet-brute-force   28826\n",
       "21459  2022-05-04  android.bakdoor.prizmes   61329\n",
       "21460  2022-05-04                    mirai   97244\n",
       "21461  2022-05-04           android.hummer  307480\n",
       "\n",
       "[21462 rows x 3 columns]"
      ]
     },
     "execution_count": 5,
     "metadata": {},
     "output_type": "execute_result"
    }
   ],
   "source": [
    "df_final"
   ]
  },
  {
   "cell_type": "markdown",
   "id": "af095048-3a8f-47ab-aa81-b69c925097d8",
   "metadata": {},
   "source": [
    "## Retrieve number of strains"
   ]
  },
  {
   "cell_type": "code",
   "execution_count": 6,
   "id": "767eca9b-8e18-4f95-a9a8-1e967cc3e9aa",
   "metadata": {},
   "outputs": [],
   "source": [
    "files = listdir('data/infected')\n",
    "def count_values(values):\n",
    "  if values.strip() == '':\n",
    "    return 0\n",
    "  else:\n",
    "    return len(values.split(';'))\n",
    "df_final = pd.DataFrame(columns=['date','strain_count'])"
   ]
  },
  {
   "cell_type": "code",
   "execution_count": 7,
   "id": "f91fbdc8-dcef-471d-ae6c-3cdcb437275d",
   "metadata": {},
   "outputs": [
    {
     "name": "stderr",
     "output_type": "stream",
     "text": [
      "/tmp/ipykernel_336639/1003818404.py:3: FutureWarning: In a future version of pandas all arguments of DataFrame.drop except for the argument 'labels' will be keyword-only\n",
      "  df = df.drop(['geo', 'country'], 1)\n"
     ]
    }
   ],
   "source": [
    "for f in files:\n",
    "  df = pd.read_csv(f'data/infected/{f}')\n",
    "  df = df.drop(['geo', 'country'], 1)\n",
    "\n",
    "  if df.empty:\n",
    "    df_infections = pd.DataFrame({'strain_count': {0: 0}})\n",
    "  else:\n",
    "    df = df[pd.notna(df.infection)]\n",
    "    df = df.groupby(['infection']).sum()\n",
    "    df_infections = pd.DataFrame({'strain_count': {0: df.shape[0]}})\n",
    "    \n",
    "  df_infections = df_infections.reset_index()\n",
    "  \n",
    "  df_infections.insert(0, 'date', f[:10])\n",
    "  \n",
    "  df_final = df_final.append(df_infections)"
   ]
  },
  {
   "cell_type": "code",
   "execution_count": 8,
   "id": "09414e49-8a9d-4718-bef6-b37e48f41b05",
   "metadata": {},
   "outputs": [
    {
     "name": "stderr",
     "output_type": "stream",
     "text": [
      "/tmp/ipykernel_336639/127077151.py:2: FutureWarning: In a future version of pandas all arguments of DataFrame.drop except for the argument 'labels' will be keyword-only\n",
      "  df_final = df_final.drop('index', 1)\n"
     ]
    }
   ],
   "source": [
    "df_final = df_final.sort_values(by=['date'])\n",
    "df_final = df_final.drop('index', 1)\n",
    "df_final.reset_index(drop=True, inplace=True)\n",
    "df_final.to_csv('infected_by_strain.csv', index=False)"
   ]
  },
  {
   "cell_type": "code",
   "execution_count": null,
   "id": "ba2343e1",
   "metadata": {},
   "outputs": [],
   "source": [
    "files = listdir('data/infected')\n",
    "\n",
    "df_geo = pd.DataFrame(columns=['date','infection','country','count'])\n",
    "\n",
    "for f in files:\n",
    "  df = pd.read_csv(f'data/infected/{f}')\n",
    "  df = df.drop(['country'], 1)\n",
    "\n",
    "  df_infections = df.groupby(['geo', 'infection']).sum()\n",
    "  \n",
    "  df_infections = df_infections.reset_index()\n",
    "  df_infections.insert(0, 'date', f[:10])\n",
    "  \n",
    "  df_geo = df_geo.append(df_infections)\n",
    "\n",
    "df_geo"
   ]
  },
  {
   "cell_type": "code",
   "execution_count": 9,
   "id": "1c898adb-315c-4204-ba22-d1e0c3acc0ce",
   "metadata": {},
   "outputs": [
    {
     "data": {
      "text/html": [
       "<div>\n",
       "<style scoped>\n",
       "    .dataframe tbody tr th:only-of-type {\n",
       "        vertical-align: middle;\n",
       "    }\n",
       "\n",
       "    .dataframe tbody tr th {\n",
       "        vertical-align: top;\n",
       "    }\n",
       "\n",
       "    .dataframe thead th {\n",
       "        text-align: right;\n",
       "    }\n",
       "</style>\n",
       "<table border=\"1\" class=\"dataframe\">\n",
       "  <thead>\n",
       "    <tr style=\"text-align: right;\">\n",
       "      <th></th>\n",
       "      <th>date</th>\n",
       "      <th>strain_count</th>\n",
       "    </tr>\n",
       "  </thead>\n",
       "  <tbody>\n",
       "    <tr>\n",
       "      <th>0</th>\n",
       "      <td>2021-05-03</td>\n",
       "      <td>36</td>\n",
       "    </tr>\n",
       "    <tr>\n",
       "      <th>1</th>\n",
       "      <td>2021-05-04</td>\n",
       "      <td>35</td>\n",
       "    </tr>\n",
       "    <tr>\n",
       "      <th>2</th>\n",
       "      <td>2021-05-05</td>\n",
       "      <td>34</td>\n",
       "    </tr>\n",
       "    <tr>\n",
       "      <th>3</th>\n",
       "      <td>2021-05-06</td>\n",
       "      <td>62</td>\n",
       "    </tr>\n",
       "    <tr>\n",
       "      <th>4</th>\n",
       "      <td>2021-05-07</td>\n",
       "      <td>67</td>\n",
       "    </tr>\n",
       "    <tr>\n",
       "      <th>...</th>\n",
       "      <td>...</td>\n",
       "      <td>...</td>\n",
       "    </tr>\n",
       "    <tr>\n",
       "      <th>358</th>\n",
       "      <td>2022-04-30</td>\n",
       "      <td>42</td>\n",
       "    </tr>\n",
       "    <tr>\n",
       "      <th>359</th>\n",
       "      <td>2022-05-01</td>\n",
       "      <td>41</td>\n",
       "    </tr>\n",
       "    <tr>\n",
       "      <th>360</th>\n",
       "      <td>2022-05-02</td>\n",
       "      <td>41</td>\n",
       "    </tr>\n",
       "    <tr>\n",
       "      <th>361</th>\n",
       "      <td>2022-05-03</td>\n",
       "      <td>41</td>\n",
       "    </tr>\n",
       "    <tr>\n",
       "      <th>362</th>\n",
       "      <td>2022-05-04</td>\n",
       "      <td>73</td>\n",
       "    </tr>\n",
       "  </tbody>\n",
       "</table>\n",
       "<p>363 rows × 2 columns</p>\n",
       "</div>"
      ],
      "text/plain": [
       "           date strain_count\n",
       "0    2021-05-03           36\n",
       "1    2021-05-04           35\n",
       "2    2021-05-05           34\n",
       "3    2021-05-06           62\n",
       "4    2021-05-07           67\n",
       "..          ...          ...\n",
       "358  2022-04-30           42\n",
       "359  2022-05-01           41\n",
       "360  2022-05-02           41\n",
       "361  2022-05-03           41\n",
       "362  2022-05-04           73\n",
       "\n",
       "[363 rows x 2 columns]"
      ]
     },
     "execution_count": 9,
     "metadata": {},
     "output_type": "execute_result"
    }
   ],
   "source": [
    "df_final"
   ]
  },
  {
   "cell_type": "markdown",
   "id": "dc0b08af",
   "metadata": {},
   "source": [
    "## Geo-infected"
   ]
  },
  {
   "cell_type": "code",
   "execution_count": 17,
   "id": "cd310be2",
   "metadata": {},
   "outputs": [
    {
     "name": "stderr",
     "output_type": "stream",
     "text": [
      "/tmp/ipykernel_336639/445677184.py:7: FutureWarning: In a future version of pandas all arguments of DataFrame.drop except for the argument 'labels' will be keyword-only\n",
      "  df = df.drop(['country'], 1)\n"
     ]
    },
    {
     "ename": "KeyboardInterrupt",
     "evalue": "",
     "output_type": "error",
     "traceback": [
      "\u001b[0;31m---------------------------------------------------------------------------\u001b[0m",
      "\u001b[0;31mKeyboardInterrupt\u001b[0m                         Traceback (most recent call last)",
      "\u001b[0;32m/tmp/ipykernel_336639/445677184.py\u001b[0m in \u001b[0;36m<module>\u001b[0;34m\u001b[0m\n\u001b[1;32m     12\u001b[0m   \u001b[0mdf_infections\u001b[0m\u001b[0;34m.\u001b[0m\u001b[0minsert\u001b[0m\u001b[0;34m(\u001b[0m\u001b[0;36m0\u001b[0m\u001b[0;34m,\u001b[0m \u001b[0;34m'date'\u001b[0m\u001b[0;34m,\u001b[0m \u001b[0mf\u001b[0m\u001b[0;34m[\u001b[0m\u001b[0;34m:\u001b[0m\u001b[0;36m10\u001b[0m\u001b[0;34m]\u001b[0m\u001b[0;34m)\u001b[0m\u001b[0;34m\u001b[0m\u001b[0;34m\u001b[0m\u001b[0m\n\u001b[1;32m     13\u001b[0m \u001b[0;34m\u001b[0m\u001b[0m\n\u001b[0;32m---> 14\u001b[0;31m   \u001b[0mdf_geo\u001b[0m \u001b[0;34m=\u001b[0m \u001b[0mdf_geo\u001b[0m\u001b[0;34m.\u001b[0m\u001b[0mappend\u001b[0m\u001b[0;34m(\u001b[0m\u001b[0mdf_infections\u001b[0m\u001b[0;34m)\u001b[0m\u001b[0;34m\u001b[0m\u001b[0;34m\u001b[0m\u001b[0m\n\u001b[0m\u001b[1;32m     15\u001b[0m \u001b[0;34m\u001b[0m\u001b[0m\n\u001b[1;32m     16\u001b[0m \u001b[0mdf_geo\u001b[0m\u001b[0;34m\u001b[0m\u001b[0;34m\u001b[0m\u001b[0m\n",
      "\u001b[0;32m~/anaconda3/lib/python3.9/site-packages/pandas/core/frame.py\u001b[0m in \u001b[0;36mappend\u001b[0;34m(self, other, ignore_index, verify_integrity, sort)\u001b[0m\n\u001b[1;32m   8963\u001b[0m             \u001b[0mto_concat\u001b[0m \u001b[0;34m=\u001b[0m \u001b[0;34m[\u001b[0m\u001b[0mself\u001b[0m\u001b[0;34m,\u001b[0m \u001b[0mother\u001b[0m\u001b[0;34m]\u001b[0m\u001b[0;34m\u001b[0m\u001b[0;34m\u001b[0m\u001b[0m\n\u001b[1;32m   8964\u001b[0m         return (\n\u001b[0;32m-> 8965\u001b[0;31m             concat(\n\u001b[0m\u001b[1;32m   8966\u001b[0m                 \u001b[0mto_concat\u001b[0m\u001b[0;34m,\u001b[0m\u001b[0;34m\u001b[0m\u001b[0;34m\u001b[0m\u001b[0m\n\u001b[1;32m   8967\u001b[0m                 \u001b[0mignore_index\u001b[0m\u001b[0;34m=\u001b[0m\u001b[0mignore_index\u001b[0m\u001b[0;34m,\u001b[0m\u001b[0;34m\u001b[0m\u001b[0;34m\u001b[0m\u001b[0m\n",
      "\u001b[0;32m~/anaconda3/lib/python3.9/site-packages/pandas/util/_decorators.py\u001b[0m in \u001b[0;36mwrapper\u001b[0;34m(*args, **kwargs)\u001b[0m\n\u001b[1;32m    309\u001b[0m                     \u001b[0mstacklevel\u001b[0m\u001b[0;34m=\u001b[0m\u001b[0mstacklevel\u001b[0m\u001b[0;34m,\u001b[0m\u001b[0;34m\u001b[0m\u001b[0;34m\u001b[0m\u001b[0m\n\u001b[1;32m    310\u001b[0m                 )\n\u001b[0;32m--> 311\u001b[0;31m             \u001b[0;32mreturn\u001b[0m \u001b[0mfunc\u001b[0m\u001b[0;34m(\u001b[0m\u001b[0;34m*\u001b[0m\u001b[0margs\u001b[0m\u001b[0;34m,\u001b[0m \u001b[0;34m**\u001b[0m\u001b[0mkwargs\u001b[0m\u001b[0;34m)\u001b[0m\u001b[0;34m\u001b[0m\u001b[0;34m\u001b[0m\u001b[0m\n\u001b[0m\u001b[1;32m    312\u001b[0m \u001b[0;34m\u001b[0m\u001b[0m\n\u001b[1;32m    313\u001b[0m         \u001b[0;32mreturn\u001b[0m \u001b[0mwrapper\u001b[0m\u001b[0;34m\u001b[0m\u001b[0;34m\u001b[0m\u001b[0m\n",
      "\u001b[0;32m~/anaconda3/lib/python3.9/site-packages/pandas/core/reshape/concat.py\u001b[0m in \u001b[0;36mconcat\u001b[0;34m(objs, axis, join, ignore_index, keys, levels, names, verify_integrity, sort, copy)\u001b[0m\n\u001b[1;32m    305\u001b[0m     )\n\u001b[1;32m    306\u001b[0m \u001b[0;34m\u001b[0m\u001b[0m\n\u001b[0;32m--> 307\u001b[0;31m     \u001b[0;32mreturn\u001b[0m \u001b[0mop\u001b[0m\u001b[0;34m.\u001b[0m\u001b[0mget_result\u001b[0m\u001b[0;34m(\u001b[0m\u001b[0;34m)\u001b[0m\u001b[0;34m\u001b[0m\u001b[0;34m\u001b[0m\u001b[0m\n\u001b[0m\u001b[1;32m    308\u001b[0m \u001b[0;34m\u001b[0m\u001b[0m\n\u001b[1;32m    309\u001b[0m \u001b[0;34m\u001b[0m\u001b[0m\n",
      "\u001b[0;32m~/anaconda3/lib/python3.9/site-packages/pandas/core/reshape/concat.py\u001b[0m in \u001b[0;36mget_result\u001b[0;34m(self)\u001b[0m\n\u001b[1;32m    530\u001b[0m                 \u001b[0mmgrs_indexers\u001b[0m\u001b[0;34m.\u001b[0m\u001b[0mappend\u001b[0m\u001b[0;34m(\u001b[0m\u001b[0;34m(\u001b[0m\u001b[0mobj\u001b[0m\u001b[0;34m.\u001b[0m\u001b[0m_mgr\u001b[0m\u001b[0;34m,\u001b[0m \u001b[0mindexers\u001b[0m\u001b[0;34m)\u001b[0m\u001b[0;34m)\u001b[0m\u001b[0;34m\u001b[0m\u001b[0;34m\u001b[0m\u001b[0m\n\u001b[1;32m    531\u001b[0m \u001b[0;34m\u001b[0m\u001b[0m\n\u001b[0;32m--> 532\u001b[0;31m             new_data = concatenate_managers(\n\u001b[0m\u001b[1;32m    533\u001b[0m                 \u001b[0mmgrs_indexers\u001b[0m\u001b[0;34m,\u001b[0m \u001b[0mself\u001b[0m\u001b[0;34m.\u001b[0m\u001b[0mnew_axes\u001b[0m\u001b[0;34m,\u001b[0m \u001b[0mconcat_axis\u001b[0m\u001b[0;34m=\u001b[0m\u001b[0mself\u001b[0m\u001b[0;34m.\u001b[0m\u001b[0mbm_axis\u001b[0m\u001b[0;34m,\u001b[0m \u001b[0mcopy\u001b[0m\u001b[0;34m=\u001b[0m\u001b[0mself\u001b[0m\u001b[0;34m.\u001b[0m\u001b[0mcopy\u001b[0m\u001b[0;34m\u001b[0m\u001b[0;34m\u001b[0m\u001b[0m\n\u001b[1;32m    534\u001b[0m             )\n",
      "\u001b[0;32m~/anaconda3/lib/python3.9/site-packages/pandas/core/internals/concat.py\u001b[0m in \u001b[0;36mconcatenate_managers\u001b[0;34m(mgrs_indexers, axes, concat_axis, copy)\u001b[0m\n\u001b[1;32m    214\u001b[0m                 \u001b[0;31m#  we can use np.concatenate, which is more performant\u001b[0m\u001b[0;34m\u001b[0m\u001b[0;34m\u001b[0m\u001b[0m\n\u001b[1;32m    215\u001b[0m                 \u001b[0;31m#  than concat_compat\u001b[0m\u001b[0;34m\u001b[0m\u001b[0;34m\u001b[0m\u001b[0m\n\u001b[0;32m--> 216\u001b[0;31m                 \u001b[0mvalues\u001b[0m \u001b[0;34m=\u001b[0m \u001b[0mnp\u001b[0m\u001b[0;34m.\u001b[0m\u001b[0mconcatenate\u001b[0m\u001b[0;34m(\u001b[0m\u001b[0mvals\u001b[0m\u001b[0;34m,\u001b[0m \u001b[0maxis\u001b[0m\u001b[0;34m=\u001b[0m\u001b[0mblk\u001b[0m\u001b[0;34m.\u001b[0m\u001b[0mndim\u001b[0m \u001b[0;34m-\u001b[0m \u001b[0;36m1\u001b[0m\u001b[0;34m)\u001b[0m\u001b[0;34m\u001b[0m\u001b[0;34m\u001b[0m\u001b[0m\n\u001b[0m\u001b[1;32m    217\u001b[0m             \u001b[0;32melse\u001b[0m\u001b[0;34m:\u001b[0m\u001b[0;34m\u001b[0m\u001b[0;34m\u001b[0m\u001b[0m\n\u001b[1;32m    218\u001b[0m                 \u001b[0;31m# TODO(EA2D): special-casing not needed with 2D EAs\u001b[0m\u001b[0;34m\u001b[0m\u001b[0;34m\u001b[0m\u001b[0m\n",
      "\u001b[0;32m<__array_function__ internals>\u001b[0m in \u001b[0;36mconcatenate\u001b[0;34m(*args, **kwargs)\u001b[0m\n",
      "\u001b[0;31mKeyboardInterrupt\u001b[0m: "
     ]
    }
   ],
   "source": [
    "files = listdir('data/infected')\n",
    "\n",
    "df_geo = pd.DataFrame(columns=['date','infection','country','count'])\n",
    "\n",
    "for f in files:\n",
    "  df = pd.read_csv(f'data/infected/{f}')\n",
    "  df = df.drop(['country'], 1)\n",
    "\n",
    "  df_infections = df.groupby(['geo', 'infection']).sum()\n",
    "  \n",
    "  df_infections = df_infections.reset_index()\n",
    "  df_infections.insert(0, 'date', f[:10])\n",
    "  \n",
    "  df_geo = df_geo.append(df_infections)\n",
    "\n",
    "df_geo"
   ]
  },
  {
   "cell_type": "markdown",
   "id": "5e896324",
   "metadata": {},
   "source": [
    "## Retrieve country infected"
   ]
  },
  {
   "cell_type": "code",
   "execution_count": 7,
   "id": "d6d09066",
   "metadata": {},
   "outputs": [],
   "source": [
    "from os import listdir\n",
    "\n",
    "files = listdir('data/infected')\n",
    "\n",
    "df_final = pd.DataFrame(columns=['date','country','count'])\n",
    "\n",
    "for f in sorted(files):\n",
    "  df = pd.read_csv(f'data/infected/{f}')\n",
    "  df = df.drop(['infection', 'geo'], axis=1)\n",
    "\n",
    "  if not df.empty:\n",
    "    df = df[pd.notna(df.country)][pd.notna(df['count'])].groupby(['country']).sum()\n",
    "    df_data = df.reset_index()\n",
    "    df_data.insert(0, 'date', f[:10])\n",
    "    df_final = pd.concat([df_final, df_data])\n",
    "\n",
    "df_final.reset_index(drop=True, inplace=True)\n",
    "df_final.to_csv('infected_by_country.csv', index=False)"
   ]
  }
 ],
 "metadata": {
  "kernelspec": {
   "display_name": "Python 3.10.4 64-bit",
   "language": "python",
   "name": "python3"
  },
  "language_info": {
   "codemirror_mode": {
    "name": "ipython",
    "version": 3
   },
   "file_extension": ".py",
   "mimetype": "text/x-python",
   "name": "python",
   "nbconvert_exporter": "python",
   "pygments_lexer": "ipython3",
   "version": "3.10.4"
  },
  "vscode": {
   "interpreter": {
    "hash": "ed56aeb5e4391eb039a0b568ddf144ade4d85b8337ff4e036753b23b296e1de1"
   }
  }
 },
 "nbformat": 4,
 "nbformat_minor": 5
}
